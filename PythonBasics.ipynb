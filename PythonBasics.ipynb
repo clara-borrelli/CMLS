{
  "nbformat": 4,
  "nbformat_minor": 0,
  "metadata": {
    "kernelspec": {
      "display_name": "Python 3",
      "language": "python",
      "name": "python3"
    },
    "language_info": {
      "codemirror_mode": {
        "name": "ipython",
        "version": 3
      },
      "file_extension": ".py",
      "mimetype": "text/x-python",
      "name": "python",
      "nbconvert_exporter": "python",
      "pygments_lexer": "ipython3",
      "version": "3.7.0"
    },
    "colab": {
      "name": "PythonBasics.ipynb",
      "provenance": [],
      "collapsed_sections": [],
      "include_colab_link": true
    }
  },
  "cells": [
    {
      "cell_type": "markdown",
      "metadata": {
        "id": "view-in-github",
        "colab_type": "text"
      },
      "source": [
        "<a href=\"https://colab.research.google.com/github/clara-borrelli/CMLS/blob/master/PythonBasics.ipynb\" target=\"_parent\"><img src=\"https://colab.research.google.com/assets/colab-badge.svg\" alt=\"Open In Colab\"/></a>"
      ]
    },
    {
      "cell_type": "markdown",
      "metadata": {
        "id": "Jay3YRWzmFVe",
        "colab_type": "text"
      },
      "source": [
        "<h1> Python Basics</h1> \n",
        "\n",
        "<br/>\n",
        "\n",
        "<p>\n",
        "This tutorial introduces some important aspects of the Python programming language. For more comprehensive introductions and a complete reference, the following links may be useful:\n",
        "\n",
        "- [The Python Tutorial](https://docs.python.org/3/tutorial/index.html) introduces the reader informally to the basic concepts and features of the Python language and system.    \n",
        "- The [Scipy Lecture Notes](https://scipy-lectures.org/) is a tutorial on the scientific Python ecosystem including libraries such as Numpy, Scipy, and Matploblib.   \n",
        "- The Python package [LibROSA](https://librosa.github.io/) provides many building blocks to create music information retrieval systems. It also cotains a [gallery](https://librosa.github.io/librosa/advanced.html) of more advanced examples. \n",
        "</p>"
      ]
    },
    {
      "cell_type": "markdown",
      "metadata": {
        "id": "OkWYyhxxmFVg",
        "colab_type": "text"
      },
      "source": [
        "## Data Types\n",
        "\n",
        "Let us start with some basic facts on Python variables:\n",
        "- Variables do not need to be declared; neither their type.\n",
        "- Variables are created automatically when they are first assigned.\n",
        "- A variable name may contain letters (`a`, `b`, ..., `Y`, `Z`) and the underscore (`_`).\n",
        "- Variable names are **case sensitive**.\n",
        "- All but the first character can also be positive integer number.\n",
        "- Usually one uses lower case letters and underscores to separate words.\n"
      ]
    },
    {
      "cell_type": "markdown",
      "metadata": {
        "id": "n4Q-7xytmFVh",
        "colab_type": "text"
      },
      "source": [
        "### Strings\n",
        "A string is given in single ticks (`'`) or double ticks (`\"`). If there is no other reason, we recommend single ticks. Let's assign a string to a variable and print it using the `print`-command."
      ]
    },
    {
      "cell_type": "code",
      "metadata": {
        "id": "s_BXYCPtmFVi",
        "colab_type": "code",
        "outputId": "0b285fe6-0fc3-41c4-cdf4-40e115780113",
        "colab": {
          "base_uri": "https://localhost:8080/",
          "height": 34
        }
      },
      "source": [
        "string_variable = 'Welcome to the Python Tutorial'\n",
        "print(string_variable)"
      ],
      "execution_count": 0,
      "outputs": [
        {
          "output_type": "stream",
          "text": [
            "Welcome to the Python Tutorial\n"
          ],
          "name": "stdout"
        }
      ]
    },
    {
      "cell_type": "markdown",
      "metadata": {
        "id": "7KYxcRgFmFVn",
        "colab_type": "text"
      },
      "source": [
        "Here some basic string formatting:"
      ]
    },
    {
      "cell_type": "code",
      "metadata": {
        "id": "WrZ6y9zAmFVo",
        "colab_type": "code",
        "outputId": "c3c54a7c-e31e-4630-ae91-00275501e2ae",
        "colab": {
          "base_uri": "https://localhost:8080/",
          "height": 68
        }
      },
      "source": [
        "print('This is an integer: %d.' % 17)\n",
        "print('This is string1: %s and this is string2: %6s' % ('ABCD', '1234')) # the overall string must be long 6, if you add .number you can set the length\n",
        "print('This is a floating point number: %06.3f.' % 3.14159265359)"
      ],
      "execution_count": 0,
      "outputs": [
        {
          "output_type": "stream",
          "text": [
            "This is an integer: 17.\n",
            "This is string1: ABCD and this is string2:   1234\n",
            "This is a floating point number: 03.142.\n"
          ],
          "name": "stdout"
        }
      ]
    },
    {
      "cell_type": "markdown",
      "metadata": {
        "id": "G_ACUImemFVr",
        "colab_type": "text"
      },
      "source": [
        "### Basic math"
      ]
    },
    {
      "cell_type": "code",
      "metadata": {
        "id": "Apgag1hAmFVs",
        "colab_type": "code",
        "outputId": "d082732a-bfc8-498f-828f-c9713e4ea4ba",
        "colab": {
          "base_uri": "https://localhost:8080/",
          "height": 102
        }
      },
      "source": [
        "n = 3\n",
        "print('n + 1 =', n + 1)\n",
        "print('n - 1 =', n - 1)\n",
        "print('n * 2 =', n * 2)\n",
        "print('n / 2 =', n / 2)\n",
        "print('n ^ 2 =', n ** 2)"
      ],
      "execution_count": 0,
      "outputs": [
        {
          "output_type": "stream",
          "text": [
            "n + 1 = 4\n",
            "n - 1 = 2\n",
            "n * 2 = 6\n",
            "n / 2 = 1.5\n",
            "n ^ 2 = 9\n"
          ],
          "name": "stdout"
        }
      ]
    },
    {
      "cell_type": "markdown",
      "metadata": {
        "id": "NLtUenXemFVv",
        "colab_type": "text"
      },
      "source": [
        "Division always results in a floating point number, even if the number is divisible without remainder. (Note that there are differences between **Python 2** and **Python 3** in using `/`). If the result should be an integer (e.g. when using it as an index), one may use the `//` operator. The `%` yields the remainder."
      ]
    },
    {
      "cell_type": "code",
      "metadata": {
        "id": "dA81Yb5TmFVw",
        "colab_type": "code",
        "outputId": "761a21fc-4322-4810-eae5-e94d3c60b90a",
        "colab": {
          "base_uri": "https://localhost:8080/",
          "height": 102
        }
      },
      "source": [
        "n = 8\n",
        "print('Normal division:', n / 2)\n",
        "print('Integer division:', n // 2)\n",
        "print('Normal division:', n / 5)\n",
        "print('Integer division:', n // 5)\n",
        "print('Remainder of integer division:', n % 5)"
      ],
      "execution_count": 0,
      "outputs": [
        {
          "output_type": "stream",
          "text": [
            "Normal division: 4.0\n",
            "Integer division: 4\n",
            "Normal division: 1.6\n",
            "Integer division: 1\n",
            "Remainder of integer division: 3\n"
          ],
          "name": "stdout"
        }
      ]
    },
    {
      "cell_type": "markdown",
      "metadata": {
        "id": "aqApUnyNmFVz",
        "colab_type": "text"
      },
      "source": [
        "For re-assigning a variable, one may use the following conventions:"
      ]
    },
    {
      "cell_type": "code",
      "metadata": {
        "id": "PMuif8TWmFV0",
        "colab_type": "code",
        "outputId": "7c99517b-97d3-4bb9-82cf-3f981b7fa3d4",
        "colab": {
          "base_uri": "https://localhost:8080/",
          "height": 85
        }
      },
      "source": [
        "n = 7\n",
        "n += 11\n",
        "print(n)\n",
        "\n",
        "n *= 2\n",
        "print(n)\n",
        "\n",
        "n /= 18\n",
        "print(n)\n",
        "\n",
        "n **= 0.5\n",
        "print(n)"
      ],
      "execution_count": 0,
      "outputs": [
        {
          "output_type": "stream",
          "text": [
            "18\n",
            "36\n",
            "2.0\n",
            "1.4142135623730951\n"
          ],
          "name": "stdout"
        }
      ]
    },
    {
      "cell_type": "markdown",
      "metadata": {
        "id": "eCMhbfoXmFV3",
        "colab_type": "text"
      },
      "source": [
        "### List and tuples"
      ]
    },
    {
      "cell_type": "markdown",
      "metadata": {
        "id": "N88kFnYnmFV4",
        "colab_type": "text"
      },
      "source": [
        "The basic compound data types in Python are **lists** and **tuples**. A list is enclosed in square brackets and a tuple is enclosed in round brackets. Both are indexed with square brackets (with indexing starting with $0$). The `len` function gives the length of a tuple or a list."
      ]
    },
    {
      "cell_type": "code",
      "metadata": {
        "id": "2GYCPBLgmFV4",
        "colab_type": "code",
        "outputId": "07928f0c-d7b5-43a8-8197-864a455453bd",
        "colab": {
          "base_uri": "https://localhost:8080/",
          "height": 136
        }
      },
      "source": [
        "var_lis = ['I', 'am', 'a', 'list']\n",
        "var_tup = ('I', 'am', 'a', 'tuple')\n",
        "print(var_lis)\n",
        "print(var_tup)\n",
        "print(var_lis[0], var_tup[1], 'generated from', var_tup[2], var_tup[3], 'and', var_lis[2], var_lis[3])\n",
        "print(len(var_tup))\n",
        "print(len(var_lis))\n",
        "\n",
        "print(type(var_lis))\n",
        "print(type(var_tup))"
      ],
      "execution_count": 0,
      "outputs": [
        {
          "output_type": "stream",
          "text": [
            "['I', 'am', 'a', 'list']\n",
            "('I', 'am', 'a', 'tuple')\n",
            "I am generated from a tuple and a list\n",
            "4\n",
            "4\n",
            "<class 'list'>\n",
            "<class 'tuple'>\n"
          ],
          "name": "stdout"
        }
      ]
    },
    {
      "cell_type": "markdown",
      "metadata": {
        "id": "aX7VenhcmFV7",
        "colab_type": "text"
      },
      "source": [
        "What is the difference between a list and a tuple? Tuples are **immutable** objects (i.e., their state cannot be modified after they are created) and a bit more efficient. Lists are more flexible. Here are some examples for list operations:"
      ]
    },
    {
      "cell_type": "code",
      "metadata": {
        "id": "TOfUNKLjmFV8",
        "colab_type": "code",
        "outputId": "801e540b-7cda-4d25-ce2a-c4ea4075cd8b",
        "colab": {
          "base_uri": "https://localhost:8080/",
          "height": 51
        }
      },
      "source": [
        "var_lis = [1, 2, 3]\n",
        "var_lis[0] = -1\n",
        "var_lis.append(10)\n",
        "var_lis = var_lis + ['a', '12', [13, 14]]\n",
        "print(var_lis)\n",
        "print(var_lis[-1])"
      ],
      "execution_count": 0,
      "outputs": [
        {
          "output_type": "stream",
          "text": [
            "[-1, 2, 3, 10, 'a', '12', [13, 14]]\n",
            "[13, 14]\n"
          ],
          "name": "stdout"
        }
      ]
    },
    {
      "cell_type": "markdown",
      "metadata": {
        "id": "91bxFEvcmFV_",
        "colab_type": "text"
      },
      "source": [
        "One can index a list with start, stop, and step values (`[start:end:step`). Note that, in Python, the last index value is `end-1`. Negative indices are possible with `-1` referring to the last index. When not specified, `start` refers to the first item, `end`  to the last item, and `step` is set to $1$."
      ]
    },
    {
      "cell_type": "code",
      "metadata": {
        "id": "qMkl3kbumFV_",
        "colab_type": "code",
        "outputId": "a33cdfbe-7335-41e9-a3c7-82430d332ea2",
        "colab": {
          "base_uri": "https://localhost:8080/",
          "height": 119
        }
      },
      "source": [
        "var_lis = [11, 12, 13, 14, 15]\n",
        "print('var_lis[0:3] =', var_lis[0:3])\n",
        "print('var_lis[1:3] =', var_lis[1:3])\n",
        "print('var_lis[-1] =', var_lis[-1])\n",
        "print('var_lis[0:3:2] =', var_lis[0:4:2])\n",
        "print('var_lis[0::2] =', var_lis[0::2])\n",
        "print('var_lis[::-1] =', var_lis[::-1])"
      ],
      "execution_count": 0,
      "outputs": [
        {
          "output_type": "stream",
          "text": [
            "var_lis[0:3] = [11, 12, 13]\n",
            "var_lis[1:3] = [12, 13]\n",
            "var_lis[-1] = 15\n",
            "var_lis[0:3:2] = [11, 13]\n",
            "var_lis[0::2] = [11, 13, 15]\n",
            "var_lis[::-1] = [15, 14, 13, 12, 11]\n"
          ],
          "name": "stdout"
        }
      ]
    },
    {
      "cell_type": "markdown",
      "metadata": {
        "id": "tm7Z3XDemFWC",
        "colab_type": "text"
      },
      "source": [
        "The following examples shows how the elements of a list or tuple can be assigned to variables (called **unpacking**):"
      ]
    },
    {
      "cell_type": "code",
      "metadata": {
        "id": "LQ7ghSMvmFWD",
        "colab_type": "code",
        "outputId": "13f0cd18-86dc-41cd-90a6-e9fea37ed8c5",
        "colab": {
          "base_uri": "https://localhost:8080/",
          "height": 51
        }
      },
      "source": [
        "var_lis = [1, 2]\n",
        "[a, b] = var_lis\n",
        "print(a, b)\n",
        "\n",
        "var_tup = (3, 4)\n",
        "[c, d] = var_tup\n",
        "print(c, d)"
      ],
      "execution_count": 0,
      "outputs": [
        {
          "output_type": "stream",
          "text": [
            "1 2\n",
            "3 4\n"
          ],
          "name": "stdout"
        }
      ]
    },
    {
      "cell_type": "markdown",
      "metadata": {
        "id": "nsCtGBdzmFWF",
        "colab_type": "text"
      },
      "source": [
        "Leaving out brackets, tuples are generated."
      ]
    },
    {
      "cell_type": "code",
      "metadata": {
        "id": "NJj96rk0mFWG",
        "colab_type": "code",
        "outputId": "ecb97ced-649e-4abf-9c8f-b959990590f7",
        "colab": {
          "base_uri": "https://localhost:8080/",
          "height": 34
        }
      },
      "source": [
        "a, b = 1, 2\n",
        "print(a, b)"
      ],
      "execution_count": 0,
      "outputs": [
        {
          "output_type": "stream",
          "text": [
            "1 2\n"
          ],
          "name": "stdout"
        }
      ]
    },
    {
      "cell_type": "markdown",
      "metadata": {
        "id": "_9JSRh6jmFWJ",
        "colab_type": "text"
      },
      "source": [
        "The `range`-function can be used to specify a tuple or list of integers (without actually generating these numbers):"
      ]
    },
    {
      "cell_type": "code",
      "metadata": {
        "id": "oyZZXrKDmFWJ",
        "colab_type": "code",
        "outputId": "51023bb5-d4e0-4812-bf00-022c03326fc1",
        "colab": {
          "base_uri": "https://localhost:8080/",
          "height": 51
        }
      },
      "source": [
        "print(range(9))\n",
        "print(range(1, 9, 2))"
      ],
      "execution_count": 0,
      "outputs": [
        {
          "output_type": "stream",
          "text": [
            "range(0, 9)\n",
            "range(1, 9, 2)\n"
          ],
          "name": "stdout"
        }
      ]
    },
    {
      "cell_type": "markdown",
      "metadata": {
        "id": "6ddvoziwmFWM",
        "colab_type": "text"
      },
      "source": [
        "A range can then be converted into a tuple or list as follows:"
      ]
    },
    {
      "cell_type": "code",
      "metadata": {
        "id": "YrbuaLhLmFWN",
        "colab_type": "code",
        "outputId": "94e88b9d-819a-41a0-9f2a-929145a5657c",
        "colab": {
          "base_uri": "https://localhost:8080/",
          "height": 68
        }
      },
      "source": [
        "print(list(range(9)))\n",
        "print(tuple(range(1, 9, 2)))\n",
        "print(list(range(9, 1, -1)))"
      ],
      "execution_count": 0,
      "outputs": [
        {
          "output_type": "stream",
          "text": [
            "[0, 1, 2, 3, 4, 5, 6, 7, 8]\n",
            "(1, 3, 5, 7)\n",
            "[9, 8, 7, 6, 5, 4, 3, 2]\n"
          ],
          "name": "stdout"
        }
      ]
    },
    {
      "cell_type": "markdown",
      "metadata": {
        "id": "0kvcBqZHmFWP",
        "colab_type": "text"
      },
      "source": [
        "List comprehensions provide a concise way to create lists. \n"
      ]
    },
    {
      "cell_type": "code",
      "metadata": {
        "id": "O8l5XVu5mFWQ",
        "colab_type": "code",
        "outputId": "28bb33e5-49b6-40b6-8d0f-1f5bcf3f6258",
        "colab": {
          "base_uri": "https://localhost:8080/",
          "height": 34
        }
      },
      "source": [
        "nums = [0, 1, 2, 3, 4]\n",
        "even_squares = [x ** 2 for x in nums if x % 2 == 0]\n",
        "print(even_squares)"
      ],
      "execution_count": 0,
      "outputs": [
        {
          "output_type": "stream",
          "text": [
            "[0, 4, 16]\n"
          ],
          "name": "stdout"
        }
      ]
    },
    {
      "cell_type": "markdown",
      "metadata": {
        "id": "nVDAFvqnmFWS",
        "colab_type": "text"
      },
      "source": [
        "### Boolean"
      ]
    },
    {
      "cell_type": "markdown",
      "metadata": {
        "id": "4s9F3aYRmFWS",
        "colab_type": "text"
      },
      "source": [
        "Boolean values in Python are `True` and `False`. Here are some examples for basic comparisons:"
      ]
    },
    {
      "cell_type": "code",
      "metadata": {
        "id": "XdxNlkiVmFWT",
        "colab_type": "code",
        "outputId": "6feb0dc0-2a10-44a3-f755-b6237a8c4b83",
        "colab": {
          "base_uri": "https://localhost:8080/",
          "height": 85
        }
      },
      "source": [
        "a = 1\n",
        "b = 2\n",
        "print(a < b)\n",
        "print(a <= b)\n",
        "print(a == b)\n",
        "print(a != b)"
      ],
      "execution_count": 0,
      "outputs": [
        {
          "output_type": "stream",
          "text": [
            "True\n",
            "True\n",
            "False\n",
            "True\n"
          ],
          "name": "stdout"
        }
      ]
    },
    {
      "cell_type": "markdown",
      "metadata": {
        "id": "i4MoyN5vmFWW",
        "colab_type": "text"
      },
      "source": [
        "The `bool` function converts an arbitrary value into a boolean value. Here, are some examples:"
      ]
    },
    {
      "cell_type": "code",
      "metadata": {
        "id": "qsQuaXKSmFWX",
        "colab_type": "code",
        "outputId": "c0622936-255f-4aec-e931-2b21f675bf02",
        "colab": {
          "base_uri": "https://localhost:8080/",
          "height": 136
        }
      },
      "source": [
        "print(bool('a'))\n",
        "print(bool(''))\n",
        "print(bool(1))\n",
        "print(bool(0))\n",
        "print(bool(0.0))\n",
        "print(bool([]))\n",
        "print(bool([4, 'hello', 1]))"
      ],
      "execution_count": 0,
      "outputs": [
        {
          "output_type": "stream",
          "text": [
            "True\n",
            "False\n",
            "True\n",
            "False\n",
            "False\n",
            "False\n",
            "True\n"
          ],
          "name": "stdout"
        }
      ]
    },
    {
      "cell_type": "markdown",
      "metadata": {
        "id": "6EdgXiNomFWZ",
        "colab_type": "text"
      },
      "source": [
        "### Sets and dictionaries"
      ]
    },
    {
      "cell_type": "code",
      "metadata": {
        "id": "anvHIMdemFWa",
        "colab_type": "code",
        "outputId": "7bb4aedf-8b02-45b3-b54d-c65a83b7601f",
        "colab": {
          "base_uri": "https://localhost:8080/",
          "height": 153
        }
      },
      "source": [
        "s = {4, 2, 1, 2}\n",
        "print('Print the set s:', s)\n",
        "print('Union of sets:', {1, 2, 3} | {2, 3, 4})\n",
        "print('Intersection of sets:', {1, 2, 3} & {2, 3, 4})\n",
        "print()\n",
        "\n",
        "dic = {'a':1 , 'b': 2, 3: 'hello'}\n",
        "print('Print the dictionary dic:', dic)\n",
        "print('Print the keys of dic:', list(dic.keys()))\n",
        "print('Access the dic via a key:', dic['b'])\n",
        "print('Print the values of dic:', list(dic.values()))"
      ],
      "execution_count": 0,
      "outputs": [
        {
          "output_type": "stream",
          "text": [
            "Print the set s: {1, 2, 4}\n",
            "Union of sets: {1, 2, 3, 4}\n",
            "Intersection of sets: {2, 3}\n",
            "\n",
            "Print the dictionary dic: {'a': 1, 'b': 2, 3: 'hello'}\n",
            "Print the keys of dic: ['a', 'b', 3]\n",
            "Access the dic via a key: 2\n",
            "Print the values of dic: [1, 2, 'hello']\n"
          ],
          "name": "stdout"
        }
      ]
    },
    {
      "cell_type": "markdown",
      "metadata": {
        "id": "XVOlASQamFWc",
        "colab_type": "text"
      },
      "source": [
        "## Basic Control Structures\n",
        "\n",
        "For control structures such as `if`, `for` or `while` one has to use indentations (as part of the syntax). A typical Python convention is to use four spaces. For example, an `if`-statement is written as follows:"
      ]
    },
    {
      "cell_type": "code",
      "metadata": {
        "id": "BICEBJ0RmFWd",
        "colab_type": "code",
        "outputId": "53eddad3-8364-43e9-eb6d-05ca87e3e75a",
        "colab": {
          "base_uri": "https://localhost:8080/",
          "height": 34
        }
      },
      "source": [
        "n = 2\n",
        "if n == 2:\n",
        "    print('True')\n",
        "else:\n",
        "    print('False')"
      ],
      "execution_count": 0,
      "outputs": [
        {
          "output_type": "stream",
          "text": [
            "True\n"
          ],
          "name": "stdout"
        }
      ]
    },
    {
      "cell_type": "markdown",
      "metadata": {
        "id": "pUfc0eqBmFWe",
        "colab_type": "text"
      },
      "source": [
        "The next example shows how to use a `for`-loop. Note that an iterable may be specified by a range, a list, a tuple, or even other structures."
      ]
    },
    {
      "cell_type": "code",
      "metadata": {
        "id": "ca4Q9QEmmFWf",
        "colab_type": "code",
        "outputId": "382e7747-7c51-4423-e3d4-497541de3d79",
        "colab": {
          "base_uri": "https://localhost:8080/",
          "height": 68
        }
      },
      "source": [
        "for i in range(3):\n",
        "    print(i, end='-')\n",
        "print()\n",
        "    \n",
        "for i in ['a', 2, 'c', 'def']:\n",
        "    print(i, end='-')\n",
        "print()\n",
        "\n",
        "for i in 'abcd':\n",
        "    print(i, end='-')\n",
        "print()"
      ],
      "execution_count": 0,
      "outputs": [
        {
          "output_type": "stream",
          "text": [
            "0-1-2-\n",
            "a-2-c-def-\n",
            "a-b-c-d-\n"
          ],
          "name": "stdout"
        }
      ]
    },
    {
      "cell_type": "markdown",
      "metadata": {
        "id": "pfAs33BYmFWh",
        "colab_type": "text"
      },
      "source": [
        "A `while`-loop is written as follows:"
      ]
    },
    {
      "cell_type": "code",
      "metadata": {
        "id": "sBqOB-H_mFWh",
        "colab_type": "code",
        "outputId": "48134d05-9b4b-4397-e2f4-325ce3bd95b5",
        "colab": {
          "base_uri": "https://localhost:8080/",
          "height": 34
        }
      },
      "source": [
        "a = 0\n",
        "while a < 5:\n",
        "    print(a, end='-')\n",
        "    a += 1"
      ],
      "execution_count": 0,
      "outputs": [
        {
          "output_type": "stream",
          "text": [
            "0-1-2-3-4-"
          ],
          "name": "stdout"
        }
      ]
    },
    {
      "cell_type": "markdown",
      "metadata": {
        "id": "tDm__YBzmFWj",
        "colab_type": "text"
      },
      "source": [
        "## Functions\n",
        "\n",
        "One defines functions with the `def`-keyword. As variable names, function names may contain letters (`a`, `b`, ..., `Y`, `Z`) and the underscore (`_`). All but the first character can also be positive integer number. Usually one uses lower case letters and underscores to separate words.\n",
        "\n",
        "The following function is named `add`. It has three arguments `a`, `b`, and `c` (with `b` and `c` having a default value). The `return` keyword is succeeded by the return value."
      ]
    },
    {
      "cell_type": "code",
      "metadata": {
        "id": "PdoYZ7mxmFWk",
        "colab_type": "code",
        "outputId": "9210b891-3ed1-4b39-d235-606f816edd39",
        "colab": {
          "base_uri": "https://localhost:8080/",
          "height": 119
        }
      },
      "source": [
        "def add(a, b=0, c=0):\n",
        "    print('Addition: ', a, ' + ', b, ' + ', c)\n",
        "    return a + b + c\n",
        "\n",
        "print(add(5))\n",
        "print(add(5, 2, 1))\n",
        "print(add(5, c=4))"
      ],
      "execution_count": 0,
      "outputs": [
        {
          "output_type": "stream",
          "text": [
            "Addition:  5  +  0  +  0\n",
            "5\n",
            "Addition:  5  +  2  +  1\n",
            "8\n",
            "Addition:  5  +  0  +  4\n",
            "9\n"
          ],
          "name": "stdout"
        }
      ]
    },
    {
      "cell_type": "markdown",
      "metadata": {
        "id": "Tt9i84nAmFWm",
        "colab_type": "text"
      },
      "source": [
        "There can also be multiple return values (which are returned as a tuple):"
      ]
    },
    {
      "cell_type": "code",
      "metadata": {
        "id": "N1P4bHNJmFWm",
        "colab_type": "code",
        "outputId": "da37dab4-61d1-4e2b-c415-5aa440665d96",
        "colab": {
          "base_uri": "https://localhost:8080/",
          "height": 34
        }
      },
      "source": [
        "def add_and_diff(a, b=0):\n",
        "    return a + b, a - b\n",
        "\n",
        "x = add_and_diff(3, 5)\n",
        "print(x)"
      ],
      "execution_count": 0,
      "outputs": [
        {
          "output_type": "stream",
          "text": [
            "(8, -2)\n"
          ],
          "name": "stdout"
        }
      ]
    },
    {
      "cell_type": "markdown",
      "metadata": {
        "id": "oyhqR9ywmFWo",
        "colab_type": "text"
      },
      "source": [
        "## NumPy\n",
        "\n",
        "Python has several useful built-in packages as well as additional external packages. One such package is **NumPy**, which adds support for multi-dimensional arrays and matrices, along with a number of mathematical functions to operate on these structures, see [NumPy Reference Manual](https://docs.scipy.org/doc/numpy/reference/) for details. In the following, we give some examples.\n",
        "\n",
        "The NumPy package is imported as follows:"
      ]
    },
    {
      "cell_type": "code",
      "metadata": {
        "id": "Vy796MRLmFWp",
        "colab_type": "code",
        "colab": {}
      },
      "source": [
        "import numpy as np"
      ],
      "execution_count": 0,
      "outputs": []
    },
    {
      "cell_type": "markdown",
      "metadata": {
        "id": "cyKZ913WmFWr",
        "colab_type": "text"
      },
      "source": [
        "It is convenient to bind a package to a short name (for example `np` as above). This short name appears as prefix when calling a function from the package. This is illustrated by the following `array`-function provided by numpy:"
      ]
    },
    {
      "cell_type": "code",
      "metadata": {
        "id": "Kyupprv6mFWs",
        "colab_type": "code",
        "outputId": "abf47920-e39b-4155-be18-f9425621b183",
        "colab": {
          "base_uri": "https://localhost:8080/",
          "height": 34
        }
      },
      "source": [
        "x = np.array([1, 2, 3, 3])\n",
        "print(x)"
      ],
      "execution_count": 0,
      "outputs": [
        {
          "output_type": "stream",
          "text": [
            "[1 2 3 3]\n"
          ],
          "name": "stdout"
        }
      ]
    },
    {
      "cell_type": "markdown",
      "metadata": {
        "id": "LtuvHOksmFWu",
        "colab_type": "text"
      },
      "source": [
        "Each array has a shape, a type, and a dimension. "
      ]
    },
    {
      "cell_type": "code",
      "metadata": {
        "id": "YddATddsmFWv",
        "colab_type": "code",
        "outputId": "3c78cbd9-d9ad-4284-cc29-86186834d740",
        "colab": {
          "base_uri": "https://localhost:8080/",
          "height": 68
        }
      },
      "source": [
        "print(x.shape)\n",
        "print(x.dtype)\n",
        "print(x.ndim)"
      ],
      "execution_count": 0,
      "outputs": [
        {
          "output_type": "stream",
          "text": [
            "(4,)\n",
            "int64\n",
            "1\n"
          ],
          "name": "stdout"
        }
      ]
    },
    {
      "cell_type": "markdown",
      "metadata": {
        "id": "TcFudDSkmFWx",
        "colab_type": "text"
      },
      "source": [
        "In this example, note that `x.shape` produces a one-element tuple, which is encoded by `(4,)` for disambiguation. (The object `(4)` would be an integer of type `int` rather than a tuple.)\n",
        "\n",
        "Multi-dimensional arrays are created like follows:"
      ]
    },
    {
      "cell_type": "code",
      "metadata": {
        "id": "OVtNKiS0mFWx",
        "colab_type": "code",
        "outputId": "a6b1a05d-d0fd-4a23-b5f3-9973831a125a",
        "colab": {
          "base_uri": "https://localhost:8080/",
          "height": 85
        }
      },
      "source": [
        "x = np.array([[1, 2, 3], [4, 5, 6]])\n",
        "print(x)\n",
        "print(x.shape)\n",
        "print(x.ndim)"
      ],
      "execution_count": 0,
      "outputs": [
        {
          "output_type": "stream",
          "text": [
            "[[1 2 3]\n",
            " [4 5 6]]\n",
            "(2, 3)\n",
            "2\n"
          ],
          "name": "stdout"
        }
      ]
    },
    {
      "cell_type": "markdown",
      "metadata": {
        "id": "9jx_-lpkmFWz",
        "colab_type": "text"
      },
      "source": [
        "There are a couple of functions for creating arrays:"
      ]
    },
    {
      "cell_type": "code",
      "metadata": {
        "id": "Avxbt-gimFW0",
        "colab_type": "code",
        "outputId": "e2c690e3-f232-4381-8906-1e77798708d2",
        "colab": {
          "base_uri": "https://localhost:8080/",
          "height": 221
        }
      },
      "source": [
        "print('Array of given shape and type, filled with zeros: %s' % np.zeros(2))\n",
        "print('Array of given shape and type, filled with ones:\\n %s' %  np.ones((2, 3)))\n",
        "print('Evenly spaced values within a given interval: %s' % np.arange(2, 8, 2))\n",
        "print('Random values in a given shape:\\n', np.random.rand(2, 3))\n",
        "print('Identity matrix:\\n%s' % np.eye(3))"
      ],
      "execution_count": 0,
      "outputs": [
        {
          "output_type": "stream",
          "text": [
            "Array of given shape and type, filled with zeros: [0. 0.]\n",
            "Array of given shape and type, filled with ones:\n",
            " [[1. 1. 1.]\n",
            " [1. 1. 1.]]\n",
            "Evenly spaced values within a given interval: [2 4 6]\n",
            "Random values in a given shape:\n",
            " [[0.18863429 0.77488536 0.91142102]\n",
            " [0.27941831 0.20209444 0.4156187 ]]\n",
            "Identity matrix:\n",
            "[[1. 0. 0.]\n",
            " [0. 1. 0.]\n",
            " [0. 0. 1.]]\n"
          ],
          "name": "stdout"
        }
      ]
    },
    {
      "cell_type": "markdown",
      "metadata": {
        "id": "POZDqotRmFW1",
        "colab_type": "text"
      },
      "source": [
        "Reshaping of an array is possible like follows:"
      ]
    },
    {
      "cell_type": "code",
      "metadata": {
        "id": "k-jhr0h7mFW2",
        "colab_type": "code",
        "outputId": "e003fb9b-ce9f-4ba3-95e3-802ac8cb24e8",
        "colab": {
          "base_uri": "https://localhost:8080/",
          "height": 272
        }
      },
      "source": [
        "x = np.arange(2 * 3 * 4)\n",
        "print(x)\n",
        "print('Shape:', x.shape)\n",
        "\n",
        "y = x.reshape((3, 8))\n",
        "print(y)\n",
        "print('Shape:', y.shape)\n",
        "\n",
        "y = x.reshape((2, 3, 4))\n",
        "print(y)\n",
        "print('Shape:', y.shape)\n",
        "\n",
        "print('Element y[0,1,2] = ', y[0,1,2])"
      ],
      "execution_count": 0,
      "outputs": [
        {
          "output_type": "stream",
          "text": [
            "[ 0  1  2  3  4  5  6  7  8  9 10 11 12 13 14 15 16 17 18 19 20 21 22 23]\n",
            "Shape: (24,)\n",
            "[[ 0  1  2  3  4  5  6  7]\n",
            " [ 8  9 10 11 12 13 14 15]\n",
            " [16 17 18 19 20 21 22 23]]\n",
            "Shape: (3, 8)\n",
            "[[[ 0  1  2  3]\n",
            "  [ 4  5  6  7]\n",
            "  [ 8  9 10 11]]\n",
            "\n",
            " [[12 13 14 15]\n",
            "  [16 17 18 19]\n",
            "  [20 21 22 23]]]\n",
            "Shape: (2, 3, 4)\n",
            "Element y[0,1,2] =  6\n"
          ],
          "name": "stdout"
        }
      ]
    },
    {
      "cell_type": "markdown",
      "metadata": {
        "id": "ZSDD91E6mFW4",
        "colab_type": "text"
      },
      "source": [
        "Applied to arrays, many operations are conducted in an element-wise fashion:"
      ]
    },
    {
      "cell_type": "code",
      "metadata": {
        "id": "MGv6XRfSmFW7",
        "colab_type": "code",
        "outputId": "00bc3962-36f5-4c3d-df5f-23043ae70313",
        "colab": {
          "base_uri": "https://localhost:8080/",
          "height": 68
        }
      },
      "source": [
        "x = np.arange(5)\n",
        "print('x + 1 =', x + 1)\n",
        "print('x * 2 =', x * 2)\n",
        "print('x > 2 =', x > 2)"
      ],
      "execution_count": 0,
      "outputs": [
        {
          "output_type": "stream",
          "text": [
            "x + 1 = [1 2 3 4 5]\n",
            "x * 2 = [0 2 4 6 8]\n",
            "x > 2 = [False False False  True  True]\n"
          ],
          "name": "stdout"
        }
      ]
    },
    {
      "cell_type": "markdown",
      "metadata": {
        "id": "ijO9rfkNmFW9",
        "colab_type": "text"
      },
      "source": [
        "Similarly, applied to two arrays of the same shape, these operations are conducted in an element-wise fashion. Matrix multiplication is performed by using the function `np.dot`:"
      ]
    },
    {
      "cell_type": "code",
      "metadata": {
        "id": "PN24BcjkmFW-",
        "colab_type": "code",
        "outputId": "cd48b7db-22b0-4d03-d3cb-057d3f6a01ef",
        "colab": {
          "base_uri": "https://localhost:8080/",
          "height": 187
        }
      },
      "source": [
        "a = np.arange(0, 4).reshape((2, 2))\n",
        "b = 2 * np.ones((2, 2))\n",
        "\n",
        "print(a)\n",
        "print(b)\n",
        "print(a + b)\n",
        "print(a * b)\n",
        "print(np.dot(a, b))"
      ],
      "execution_count": 0,
      "outputs": [
        {
          "output_type": "stream",
          "text": [
            "[[0 1]\n",
            " [2 3]]\n",
            "[[2. 2.]\n",
            " [2. 2.]]\n",
            "[[2. 3.]\n",
            " [4. 5.]]\n",
            "[[0. 2.]\n",
            " [4. 6.]]\n",
            "[[ 2.  2.]\n",
            " [10. 10.]]\n"
          ],
          "name": "stdout"
        }
      ]
    },
    {
      "cell_type": "markdown",
      "metadata": {
        "id": "xEKuX2VFmFW_",
        "colab_type": "text"
      },
      "source": [
        "Note that arrays and lists may behave in a completely different way. For example, addition leads to the following results:"
      ]
    },
    {
      "cell_type": "code",
      "metadata": {
        "id": "EB0pl0S2mFXA",
        "colab_type": "code",
        "outputId": "4c0011b0-3ad2-4570-cf29-37b489ba32d7",
        "colab": {
          "base_uri": "https://localhost:8080/",
          "height": 51
        }
      },
      "source": [
        "a = np.arange(4)\n",
        "b = np.arange(4)\n",
        "print(a + b, type(a + b))\n",
        "\n",
        "a = list(a)\n",
        "b = list(b)\n",
        "print(a + b, type(a + b))"
      ],
      "execution_count": 0,
      "outputs": [
        {
          "output_type": "stream",
          "text": [
            "[0 2 4 6] <class 'numpy.ndarray'>\n",
            "[0, 1, 2, 3, 0, 1, 2, 3] <class 'list'>\n"
          ],
          "name": "stdout"
        }
      ]
    },
    {
      "cell_type": "markdown",
      "metadata": {
        "id": "mXA1irm9mFXC",
        "colab_type": "text"
      },
      "source": [
        "The sum of an array's elements can be computed as follows:"
      ]
    },
    {
      "cell_type": "code",
      "metadata": {
        "id": "PkirwGECmFXD",
        "colab_type": "code",
        "outputId": "c9f0534e-2112-4cf2-b29f-8341285439fb",
        "colab": {
          "base_uri": "https://localhost:8080/",
          "height": 102
        }
      },
      "source": [
        "x = np.arange(6).reshape((2, 3))\n",
        "print(x)\n",
        "print(x.sum())\n",
        "print(x.sum(axis=0))\n",
        "print(x.sum(axis=1))"
      ],
      "execution_count": 0,
      "outputs": [
        {
          "output_type": "stream",
          "text": [
            "[[0 1 2]\n",
            " [3 4 5]]\n",
            "15\n",
            "[3 5 7]\n",
            "[ 3 12]\n"
          ],
          "name": "stdout"
        }
      ]
    },
    {
      "cell_type": "markdown",
      "metadata": {
        "id": "H6rDn7wfmFXF",
        "colab_type": "text"
      },
      "source": [
        "There are many ways for accessing and manipulating arrays:"
      ]
    },
    {
      "cell_type": "code",
      "metadata": {
        "id": "t_Z3IZc1mFXH",
        "colab_type": "code",
        "outputId": "43801073-81f8-4552-83a0-d95b8d3cfc71",
        "colab": {
          "base_uri": "https://localhost:8080/",
          "height": 153
        }
      },
      "source": [
        "x = np.arange(6).reshape((2, 3))\n",
        "print(x)\n",
        "print(x[1, 1])\n",
        "print([x > 1])\n",
        "print(x[x > 1])\n",
        "print(x[1, :])\n",
        "print(x[:, 1])"
      ],
      "execution_count": 0,
      "outputs": [
        {
          "output_type": "stream",
          "text": [
            "[[0 1 2]\n",
            " [3 4 5]]\n",
            "4\n",
            "[array([[False, False,  True],\n",
            "       [ True,  True,  True]])]\n",
            "[2 3 4 5]\n",
            "[3 4 5]\n",
            "[1 4]\n"
          ],
          "name": "stdout"
        }
      ]
    },
    {
      "cell_type": "markdown",
      "metadata": {
        "id": "j11DYeusmFXI",
        "colab_type": "text"
      },
      "source": [
        "Specifying the data type for an array can be important in some situations."
      ]
    },
    {
      "cell_type": "code",
      "metadata": {
        "id": "bFzQeV9hmFXJ",
        "colab_type": "code",
        "outputId": "e09fa9f1-ad0e-4485-a067-f9845725da20",
        "colab": {
          "base_uri": "https://localhost:8080/",
          "height": 85
        }
      },
      "source": [
        "x = np.arange(-3, 3)\n",
        "print(x, type(x), type(x[0]), x.dtype)\n",
        "x = np.sqrt(x)\n",
        "print(x)     "
      ],
      "execution_count": 0,
      "outputs": [
        {
          "output_type": "stream",
          "text": [
            "[-3 -2 -1  0  1  2] <class 'numpy.ndarray'> <class 'numpy.int64'> int64\n",
            "[       nan        nan        nan 0.         1.         1.41421356]\n"
          ],
          "name": "stdout"
        },
        {
          "output_type": "stream",
          "text": [
            "/usr/local/lib/python3.6/dist-packages/ipykernel_launcher.py:3: RuntimeWarning: invalid value encountered in sqrt\n",
            "  This is separate from the ipykernel package so we can avoid doing imports until\n"
          ],
          "name": "stderr"
        }
      ]
    },
    {
      "cell_type": "code",
      "metadata": {
        "id": "H9fCbkJmmFXL",
        "colab_type": "code",
        "outputId": "506c6d32-4a32-4998-a34b-ff76ee60b676",
        "colab": {
          "base_uri": "https://localhost:8080/",
          "height": 68
        }
      },
      "source": [
        "x = np.arange(-3, 3, dtype='complex')\n",
        "print(x, type(x), type(x[0]), x.dtype)\n",
        "x = np.sqrt(x)\n",
        "print(x)"
      ],
      "execution_count": 0,
      "outputs": [
        {
          "output_type": "stream",
          "text": [
            "[-3.+0.j -2.+0.j -1.+0.j  0.+0.j  1.+0.j  2.+0.j] <class 'numpy.ndarray'> <class 'numpy.complex128'> complex128\n",
            "[0.        +1.73205081j 0.        +1.41421356j 0.        +1.j\n",
            " 0.        +0.j         1.        +0.j         1.41421356+0.j        ]\n"
          ],
          "name": "stdout"
        }
      ]
    },
    {
      "cell_type": "markdown",
      "metadata": {
        "id": "3tlJodgbmFXO",
        "colab_type": "text"
      },
      "source": [
        "## Matplotlib\n",
        "\n",
        "Matplotlib is a plotting library. In this section give a brief introduction to the matplotlib.pyplot module, which provides a plotting system similar to that of MATLAB."
      ]
    },
    {
      "cell_type": "code",
      "metadata": {
        "id": "8UM2FI2vmFXO",
        "colab_type": "code",
        "colab": {}
      },
      "source": [
        "%matplotlib inline\n",
        "import matplotlib.pyplot as plt"
      ],
      "execution_count": 0,
      "outputs": []
    },
    {
      "cell_type": "markdown",
      "metadata": {
        "id": "gWE8c9D1mFXQ",
        "colab_type": "text"
      },
      "source": [
        "#### Plot"
      ]
    },
    {
      "cell_type": "code",
      "metadata": {
        "id": "YrGqI6OXmFXQ",
        "colab_type": "code",
        "outputId": "8a8895df-dc19-4c79-f7c2-990c8a4f0cd4",
        "colab": {
          "base_uri": "https://localhost:8080/",
          "height": 295
        }
      },
      "source": [
        "x = np.arange(0, 3 * np.pi, 0.1)\n",
        "y_sin = np.sin(x)\n",
        "y_cos = np.cos(x)\n",
        "\n",
        "# Plot the points using matplotlib\n",
        "plt.plot(x, y_sin)\n",
        "plt.plot(x, y_cos)\n",
        "plt.xlabel('x axis label')\n",
        "plt.ylabel('y axis label')\n",
        "plt.title('Sine and Cosine')\n",
        "plt.legend(['Sine', 'Cosine'])\n",
        "plt.grid(True)"
      ],
      "execution_count": 0,
      "outputs": [
        {
          "output_type": "display_data",
          "data": {
            "image/png": "[encoded data removed]",
            "text/plain": [
              "<Figure size 432x288 with 1 Axes>"
            ]
          },
          "metadata": {
            "tags": []
          }
        }
      ]
    },
    {
      "cell_type": "markdown",
      "metadata": {
        "id": "NYDeFXOQmFXT",
        "colab_type": "text"
      },
      "source": [
        "#### Subplots"
      ]
    },
    {
      "cell_type": "code",
      "metadata": {
        "scrolled": false,
        "id": "w4HrpGiLmFXT",
        "colab_type": "code",
        "outputId": "f61fcaea-6b98-4a40-fa21-7a062b648ca8",
        "colab": {
          "base_uri": "https://localhost:8080/",
          "height": 281
        }
      },
      "source": [
        "# Compute the x and y coordinates for points on sine and cosine curves\n",
        "x = np.arange(0, 3 * np.pi, 0.1)\n",
        "y_sin = np.sin(x)\n",
        "y_cos = np.cos(x)\n",
        "\n",
        "# Set up a subplot grid that has height 2 and width 1,\n",
        "# and set the first such subplot as active.\n",
        "plt.subplot(2, 1, 1)\n",
        "\n",
        "# Make the first plot\n",
        "plt.plot(x, y_sin)\n",
        "plt.title('Sine')\n",
        "\n",
        "# Set the second subplot as active, and make the second plot.\n",
        "plt.subplot(2, 1, 2)\n",
        "plt.plot(x, y_cos)\n",
        "plt.title('Cosine')\n",
        "\n",
        "# Show the figure.\n",
        "plt.show()"
      ],
      "execution_count": 0,
      "outputs": [
        {
          "output_type": "display_data",
          "data": {
            "image/png": "[encoded data removed]",
            "text/plain": [
              "<Figure size 432x288 with 2 Axes>"
            ]
          },
          "metadata": {
            "tags": []
          }
        }
      ]
    },
    {
      "cell_type": "code",
      "metadata": {
        "id": "MeQNnzQEme3E",
        "colab_type": "code",
        "colab": {}
      },
      "source": [
        ""
      ],
      "execution_count": 0,
      "outputs": []
    }
  ]
}