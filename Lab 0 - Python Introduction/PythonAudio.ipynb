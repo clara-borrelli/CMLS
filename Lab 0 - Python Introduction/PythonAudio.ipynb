{
  "nbformat": 4,
  "nbformat_minor": 0,
  "metadata": {
    "kernelspec": {
      "display_name": "Python 3",
      "language": "python",
      "name": "python3"
    },
    "language_info": {
      "codemirror_mode": {
        "name": "ipython",
        "version": 3
      },
      "file_extension": ".py",
      "mimetype": "text/x-python",
      "name": "python",
      "nbconvert_exporter": "python",
      "pygments_lexer": "ipython3",
      "version": "3.7.0"
    },
    "colab": {
      "name": "PythonAudio.ipynb",
      "provenance": [],
      "collapsed_sections": [],
      "include_colab_link": true
    }
  },
  "cells": [
    {
      "cell_type": "markdown",
      "metadata": {
        "id": "view-in-github",
        "colab_type": "text"
      },
      "source": [
        "<a href=\"https://colab.research.google.com/github/clara-borrelli/CMLS/blob/master/Lab%200%20-%20Python%20Introduction/PythonAudio.ipynb\" target=\"_parent\"><img src=\"https://colab.research.google.com/assets/colab-badge.svg\" alt=\"Open In Colab\"/></a>"
      ]
    },
    {
      "cell_type": "markdown",
      "metadata": {
        "id": "tps2JPORsXd9",
        "colab_type": "text"
      },
      "source": [
        "<div> \n",
        "<div><h1>Python Audio</h1></div>\n",
        "</div>\n",
        "\n",
        "<br/>\n",
        "\n",
        "<p>\n",
        "There are several ways to read and write <strong>audio files</strong> in Python, using different packages. This notebooks lists some options and discusses advantages and disadvantages. "
      ]
    },
    {
      "cell_type": "code",
      "metadata": {
        "id": "FOaXBCbrsmE0",
        "colab_type": "code",
        "colab": {}
      },
      "source": [
        "import urllib.request\n",
        "urllib.request.urlretrieve (\"https://drive.google.com/uc?export=view&id=1ZGBwo2UUGDuiNtmtlM9bLe2FhumIdM3y\", \"C4_Piano.wav\")\n",
        "urllib.request.urlretrieve (\"https://drive.google.com/uc?export=view&id=1go-Vnzp2eeaS2Ku5qFJ16egUixGvSvhv\", \"sine.wav\")\n",
        "urllib.request.urlretrieve (\"https://drive.google.com/uc?export=view&id=1f43R3vZujeufuGYFGTolm_5VzrUZNQ2V\", \"C4_Piano.mp3\")\n",
        "urllib.request.urlretrieve (\"https://drive.google.com/uc?export=view&id=1WgumNnXb50-2i_-9nxxYCJftLprvvPjB\", \"C4_Piano_int16.wav\")\n"
      ],
      "execution_count": 0,
      "outputs": []
    },
    {
      "cell_type": "markdown",
      "metadata": {
        "id": "DBUoo4MGsXeA",
        "colab_type": "text"
      },
      "source": [
        "## LibROSA"
      ]
    },
    {
      "cell_type": "markdown",
      "metadata": {
        "id": "PVm4EogRsXeB",
        "colab_type": "text"
      },
      "source": [
        "One option is to use librosa's functions [`librosa.load`](https://librosa.github.io/librosa/generated/librosa.core.load.html) and `librosa.output.write_wav`. \n",
        "\n",
        "* Per default, `librosa.load` resamples the audio to 22050 Hz. Setting `sr=None` keeps the native sampling rate.\n",
        "* Loaded audio is always converted to float in the range of $[-1, 1]$.\n",
        "* `librosa.load` is able to read mp3-files when [`ffmpeg`](https://ffmpeg.org/) is available.\n",
        "* `librosa.output.write_wav` always uses the data type of the numpy array (e.g. 64-bit float).\n",
        "\n",
        "Note that some of the librosa functionality for reading and writing audio files may be dropped in later versions as \n",
        "[discussed in this thread](https://github.com/librosa/librosa/issues/509)."
      ]
    },
    {
      "cell_type": "code",
      "metadata": {
        "id": "ymj34EbGsXeC",
        "colab_type": "code",
        "colab": {}
      },
      "source": [
        "import os\n",
        "import numpy as np\n",
        "from matplotlib import pyplot as plt\n",
        "import IPython.display as ipd\n",
        "import librosa\n",
        "import pandas as pd\n",
        "%matplotlib inline\n",
        "\n",
        "def print_plot_play(x, Fs, text=''):\n",
        "    print('%s Fs = %d, x.shape = %s, x.dtype = %s' % (text, Fs, x.shape, x.dtype))\n",
        "    plt.figure(figsize=(10, 2))\n",
        "    plt.plot(x, color='gray')\n",
        "    plt.xlim([0, x.shape[0]])\n",
        "    plt.xlabel('Time (samples)')\n",
        "    plt.ylabel('Amplitude')\n",
        "    plt.tight_layout()\n",
        "    plt.show()\n",
        "    ipd.display(ipd.Audio(data=x, rate=Fs))\n",
        "\n",
        "# Read wav\n",
        "fn_wav = os.path.join('audio', 'C4_Piano.wav')\n",
        "x, Fs = librosa.load(fn_wav, sr=None)\n",
        "print_plot_play(x=x, Fs=Fs, text='WAV file: ')\n",
        "\n",
        "# Read mp3\n",
        "fn_mp3 = os.path.join('audio', 'C4_Piano.mp3')\n",
        "x, Fs = librosa.load(fn_mp3, sr=None)\n",
        "print_plot_play(x=x, Fs=Fs, text='MP3 file: ')"
      ],
      "execution_count": 0,
      "outputs": []
    },
    {
      "cell_type": "code",
      "metadata": {
        "id": "S7ZMKh8_sXeH",
        "colab_type": "code",
        "colab": {}
      },
      "source": [
        "# Generate signal\n",
        "Fs = 8000\n",
        "x_05 = 0.5 * np.cos(2 * np.pi * 440 * np.arange(0, Fs//2) / Fs)\n",
        "x_2 = 2 * np.cos(2 * np.pi * 440 * np.arange(0, Fs//2) / Fs)\n",
        "x = np.concatenate([x_05, x_2])\n",
        "print_plot_play(x=x, Fs=Fs, text='Generated signal: ')\n",
        "\n",
        "print_plot_play(x=x[-2*8000//440:], Fs=Fs, text='Generated signal: ')\n",
        "\n",
        "\n",
        "# Write signal as wav (float; int16 not possible)\n",
        "# Note that librosa applies some normalization and clipping\n",
        "fn_out = os.path.join('audio','sine.wav')\n",
        "librosa.output.write_wav(fn_out, x, Fs)\n",
        "\n",
        "# Read generated signal\n",
        "x, Fs = librosa.load(fn_out, sr=None)\n",
        "print_plot_play(x=x,Fs=Fs,text='Signal after writing and reading: ')\n",
        "\n",
        "print_plot_play(x=x[-2*8000//440:],Fs=Fs,text='Signal after writing and reading: ')"
      ],
      "execution_count": 0,
      "outputs": []
    },
    {
      "cell_type": "markdown",
      "metadata": {
        "id": "t_8xr_8ZsXeK",
        "colab_type": "text"
      },
      "source": [
        "## PySoundFile"
      ]
    },
    {
      "cell_type": "markdown",
      "metadata": {
        "id": "NaYK5DuIsXeM",
        "colab_type": "text"
      },
      "source": [
        "The audio library [`PySoundFile`](https://pysoundfile.readthedocs.io/en/0.9.0/), which is supported by several several other libraries, yields also functions for reading and writing sound files. In particular, it contains the functions [`soundfile.read`](https://pysoundfile.readthedocs.io/en/latest/#soundfile.read) and [`soundfile.write`](https://pysoundfile.readthedocs.io/en/latest/#soundfile.write). \n",
        "\n",
        "* Per default, the loaded audio is converted to float in the range of $[-1, 1]$. This can be changed with the `dtype` keyword.\n",
        "* When writing, it uses signed 16 bit PCM (`subtype='PCM_16'`) as default.\n",
        "* There are no resampling options.\n",
        "* There is no option to read mp3 files.\n"
      ]
    },
    {
      "cell_type": "code",
      "metadata": {
        "id": "8_PlFH5zsXeN",
        "colab_type": "code",
        "colab": {}
      },
      "source": [
        "import soundfile as sf\n",
        "\n",
        "# Read wav with default\n",
        "fn_wav = os.path.join('audio', 'C4_Piano.wav')\n",
        "x, Fs = sf.read(fn_wav)\n",
        "print_plot_play(x=x,Fs=Fs,text='WAV file (default): ')\n",
        "\n",
        "# Read wav with dtype= 'int16'\n",
        "fn_wav = os.path.join('audio', 'C4_Piano.wav')\n",
        "x, Fs = sf.read(fn_wav, dtype= 'int16')\n",
        "print_plot_play(x=x,Fs=Fs,text='WAV file (dtype=int16): ')\n",
        "\n",
        "# Write signal 'int16'-signal and read with default\n",
        "fn_out = os.path.join('audio', 'C4_Piano_int16.wav')\n",
        "sf.write(fn_out, x, Fs)\n",
        "x, Fs = sf.read(fn_out)\n",
        "print_plot_play(x=x,Fs=Fs,text='Signal (int16) after writing and reading (default): ')"
      ],
      "execution_count": 0,
      "outputs": []
    },
    {
      "cell_type": "code",
      "metadata": {
        "id": "4SSvFRq-sXeR",
        "colab_type": "code",
        "colab": {}
      },
      "source": [
        "# Generate signal\n",
        "Fs = 8000\n",
        "x = 0.5 * np.cos(2 * np.pi * 440 * np.arange(0, Fs) / Fs)\n",
        "x[2000:2200] = 2\n",
        "print_plot_play(x=x,Fs=Fs,text='Generated signal: ')\n",
        "\n",
        "# Write signal\n",
        "# Default: 'PCM_16'\n",
        "# Equivalent to pre-processing (dithering + quantization) \n",
        "# x = np.int16(np.round(x*(2**15)))\n",
        "# \n",
        "print('Default for writing files:', sf.default_subtype('WAV'))\n",
        "fn_out = os.path.join('..', 'output', 'B', 'FMP_B_PythonAudio_sine.wav')\n",
        "sf.write(fn_out, x, Fs, subtype='PCM_16')\n",
        "\n",
        "# Read generated signal\n",
        "x, Fs = sf.read(fn_out)\n",
        "print_plot_play(x=x,Fs=Fs,text='Signal after writing and reading: ')"
      ],
      "execution_count": 0,
      "outputs": []
    },
    {
      "cell_type": "markdown",
      "metadata": {
        "id": "i1wdn-YZsXeU",
        "colab_type": "text"
      },
      "source": [
        "## SciPy"
      ]
    },
    {
      "cell_type": "markdown",
      "metadata": {
        "id": "mggHdNWesXeV",
        "colab_type": "text"
      },
      "source": [
        "Scipy offers the [`scipy.io.wavfile`](https://docs.scipy.org/doc/scipy/reference/io.html#module-scipy.io.wavfile) module, which also has functionalities for reading and writing wav files. However, not all variants of the wav format are support. For example, 24-bit integer wav files are not allowed. Furthermore, certain metadata fields in a wav file may also lead to errors."
      ]
    },
    {
      "cell_type": "code",
      "metadata": {
        "id": "ISo0NJWgsXeW",
        "colab_type": "code",
        "colab": {}
      },
      "source": [
        "from scipy.io import wavfile\n",
        "\n",
        "Fs, x = wavfile.read(fn_wav)"
      ],
      "execution_count": 0,
      "outputs": []
    }
  ]
}